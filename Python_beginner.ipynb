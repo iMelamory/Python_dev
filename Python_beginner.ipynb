{
 "cells": [
  {
   "cell_type": "code",
   "execution_count": 2,
   "metadata": {},
   "outputs": [
    {
     "name": "stdout",
     "output_type": "stream",
     "text": [
      "Введите датусегодгя\n",
      "Введите задачувыпить кофе\n",
      "сегодгя выпить кофе\n"
     ]
    }
   ],
   "source": [
    "#Task 1\n",
    "\n",
    "date = input(\"Введите дату\")\n",
    "task = input(\"Введите задачу\")\n",
    "\n",
    "print(f'{date} {task}')"
   ]
  },
  {
   "cell_type": "code",
   "execution_count": 10,
   "metadata": {},
   "outputs": [
    {
     "name": "stdout",
     "output_type": "stream",
     "text": [
      "Введите датуwd\n",
      "Введите задачуasd\n",
      "Введите датуas\n",
      "Введите задачуas\n",
      "Введите датуas\n",
      "Введите задачуsa\n",
      "wd asd \n",
      "as as \n",
      "as sa\n"
     ]
    }
   ],
   "source": [
    "#Task 2\n",
    "\n",
    "date = input(\"Введите дату\")\n",
    "task = input(\"Введите задачу\")\n",
    "date_1 = input(\"Введите дату\")\n",
    "task_1 = input(\"Введите задачу\")\n",
    "date_2 = input(\"Введите дату\")\n",
    "task_2 = input(\"Введите задачу\")\n",
    "\n",
    "print(f'{date} {task} \\n{date_1} {task_1} \\n{date_2} {task_2}')"
   ]
  },
  {
   "cell_type": "code",
   "execution_count": 9,
   "metadata": {},
   "outputs": [
    {
     "name": "stdout",
     "output_type": "stream",
     "text": [
      "Введите дату 1\n",
      "Введите задачу df\n",
      "Введите дату 1\n",
      "Введите задачу gd\n",
      "Введите дату 2\n",
      "Введите задачу gre\n"
     ]
    },
    {
     "data": {
      "text/plain": [
       "{'1': ['df', 'gd'], '2': ['gre']}"
      ]
     },
     "execution_count": 9,
     "metadata": {},
     "output_type": "execute_result"
    }
   ],
   "source": [
    "#Task 3\n",
    "\n",
    "dictionary = {}\n",
    "i= 0\n",
    "while i <=2:\n",
    "    date = input(\"Введите дату \")\n",
    "    task = input(\"Введите задачу \")\n",
    "    i +=1\n",
    "    if date not in dictionary.keys():\n",
    "        dictionary.setdefault(date, [task])  \n",
    "    else:\n",
    "        dictionary.setdefault(date, task).append(task)\n",
    "                            \n",
    "\n",
    "dictionary"
   ]
  }
 ],
 "metadata": {
  "kernelspec": {
   "display_name": "Python 3",
   "language": "python",
   "name": "python3"
  },
  "language_info": {
   "codemirror_mode": {
    "name": "ipython",
    "version": 3
   },
   "file_extension": ".py",
   "mimetype": "text/x-python",
   "name": "python",
   "nbconvert_exporter": "python",
   "pygments_lexer": "ipython3",
   "version": "3.8.3"
  }
 },
 "nbformat": 4,
 "nbformat_minor": 4
}
